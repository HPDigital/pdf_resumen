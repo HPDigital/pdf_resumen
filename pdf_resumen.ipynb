{
 "cells": [
  {
   "cell_type": "code",
   "execution_count": 1,
   "id": "070a4b6c-26a1-4dc2-9867-4a81235b0791",
   "metadata": {},
   "outputs": [
    {
     "ename": "ModuleNotFoundError",
     "evalue": "No module named 'gensim.summarization'",
     "output_type": "error",
     "traceback": [
      "\u001b[1;31m---------------------------------------------------------------------------\u001b[0m",
      "\u001b[1;31mModuleNotFoundError\u001b[0m                       Traceback (most recent call last)",
      "Cell \u001b[1;32mIn[1], line 3\u001b[0m\n\u001b[0;32m      1\u001b[0m \u001b[38;5;28;01mimport\u001b[39;00m \u001b[38;5;21;01mfitz\u001b[39;00m  \u001b[38;5;66;03m# PyMuPDF\u001b[39;00m\n\u001b[0;32m      2\u001b[0m \u001b[38;5;28;01mfrom\u001b[39;00m \u001b[38;5;21;01mdocx\u001b[39;00m \u001b[38;5;28;01mimport\u001b[39;00m Document\n\u001b[1;32m----> 3\u001b[0m \u001b[38;5;28;01mfrom\u001b[39;00m \u001b[38;5;21;01mgensim\u001b[39;00m\u001b[38;5;21;01m.\u001b[39;00m\u001b[38;5;21;01msummarization\u001b[39;00m \u001b[38;5;28;01mimport\u001b[39;00m summarize\n\u001b[0;32m      5\u001b[0m \u001b[38;5;28;01mdef\u001b[39;00m \u001b[38;5;21mpdf_to_word_summary\u001b[39m(pdf_path, word_path):\n\u001b[0;32m      6\u001b[0m     \u001b[38;5;66;03m# Abrir el documento PDF\u001b[39;00m\n\u001b[0;32m      7\u001b[0m     pdf_document \u001b[38;5;241m=\u001b[39m fitz\u001b[38;5;241m.\u001b[39mopen(pdf_path)\n",
      "\u001b[1;31mModuleNotFoundError\u001b[0m: No module named 'gensim.summarization'"
     ]
    }
   ],
   "source": [
    "import fitz  # PyMuPDF\n",
    "from docx import Document\n",
    "from gensim.summarization import summarize\n",
    "\n",
    "def pdf_to_word_summary(pdf_path, word_path):\n",
    "    # Abrir el documento PDF\n",
    "    pdf_document = fitz.open(pdf_path)\n",
    "    text = \"\"\n",
    "    \n",
    "    # Leer cada página del documento PDF\n",
    "    for page_num in range(len(pdf_document)):\n",
    "        page = pdf_document.load_page(page_num)\n",
    "        text += page.get_text()\n",
    "    \n",
    "    # Usar gensim para generar un resumen del texto\n",
    "    summary = summarize(text)\n",
    "    \n",
    "    # Crear un nuevo documento Word\n",
    "    doc = Document()\n",
    "    doc.add_paragraph(summary)\n",
    "    \n",
    "    # Guardar el documento Word\n",
    "    doc.save(word_path)\n",
    "    \n",
    "    # Cerrar el documento PDF\n",
    "    pdf_document.close()\n",
    "\n",
    "# Uso del programa\n",
    "pdf_path = 'ruta/a/tu/documento.pdf'\n",
    "word_path = 'ruta/donde/guardar/documento.docx'\n",
    "pdf_to_word_summary(pdf_path, word_path)\n"
   ]
  },
  {
   "cell_type": "code",
   "execution_count": null,
   "id": "ee320ca6-e596-46d2-bc6e-41fbe123c9f9",
   "metadata": {},
   "outputs": [],
   "source": []
  }
 ],
 "metadata": {
  "kernelspec": {
   "display_name": "Python 3 (ipykernel)",
   "language": "python",
   "name": "python3"
  },
  "language_info": {
   "codemirror_mode": {
    "name": "ipython",
    "version": 3
   },
   "file_extension": ".py",
   "mimetype": "text/x-python",
   "name": "python",
   "nbconvert_exporter": "python",
   "pygments_lexer": "ipython3",
   "version": "3.11.7"
  }
 },
 "nbformat": 4,
 "nbformat_minor": 5
}
